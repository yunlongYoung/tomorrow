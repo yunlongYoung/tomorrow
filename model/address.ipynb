{
 "cells": [
  {
   "cell_type": "code",
   "execution_count": 1,
   "metadata": {},
   "outputs": [
    {
     "data": {
      "text/plain": [
       "<Permission: 1>"
      ]
     },
     "execution_count": 1,
     "metadata": {},
     "output_type": "execute_result"
    }
   ],
   "source": [
    "from sys import path\n",
    "path.append('..')\n",
    "from model.models import db, init_db, Person, Permission, Vaccination, House, Family\n",
    "\n",
    "db.connect(reuse_if_open=True)\n",
    "permission = Permission.get(person_id='622628196509135738', password='394329')\n",
    "permission"
   ]
  },
  {
   "cell_type": "code",
   "execution_count": 3,
   "metadata": {},
   "outputs": [
    {
     "data": {
      "text/plain": [
       "<Person: 622628196509135738>"
      ]
     },
     "execution_count": 3,
     "metadata": {},
     "output_type": "execute_result"
    }
   ],
   "source": [
    "p = Person.get(id='622628196509135738')\n",
    "p"
   ]
  },
  {
   "cell_type": "code",
   "execution_count": 6,
   "metadata": {},
   "outputs": [],
   "source": [
    "vis = p.vaccine_injections"
   ]
  },
  {
   "cell_type": "code",
   "execution_count": 16,
   "metadata": {},
   "outputs": [
    {
     "name": "stdout",
     "output_type": "stream",
     "text": [
      "1\n",
      "622628196509135738\n",
      "2021-08-06\n",
      "621226\n",
      "灭活\n"
     ]
    }
   ],
   "source": [
    "print(len(vis))\n",
    "for vi in vis:\n",
    "    print(vi.person)\n",
    "    print(vi.date)\n",
    "    print(vi.location)\n",
    "    print(vi.type_)"
   ]
  },
  {
   "cell_type": "code",
   "execution_count": 19,
   "metadata": {},
   "outputs": [
    {
     "name": "stdout",
     "output_type": "stream",
     "text": [
      "1\n"
     ]
    },
    {
     "data": {
      "text/plain": [
       "[{'id': 1,\n",
       "  'person': '622628196509135738',\n",
       "  'date': datetime.date(2021, 8, 6),\n",
       "  'location': '621226',\n",
       "  'type_': '灭活'}]"
      ]
     },
     "execution_count": 19,
     "metadata": {},
     "output_type": "execute_result"
    }
   ],
   "source": [
    "    tests = Person.get(id='622628196509135738').vaccine_injections\n",
    "    records = []\n",
    "    for test in tests:\n",
    "        print(test)\n",
    "        test = test.__dict__['__data__']\n",
    "        records.append(test)\n",
    "    records"
   ]
  },
  {
   "cell_type": "code",
   "execution_count": null,
   "metadata": {},
   "outputs": [],
   "source": []
  }
 ],
 "metadata": {
  "interpreter": {
   "hash": "2cd63ce63154444726240f42c6fe807ce681eaf47a3b53b1ec212fa1835093ee"
  },
  "kernelspec": {
   "display_name": "Python 3.10.1 64-bit (windows store)",
   "language": "python",
   "name": "python3"
  },
  "language_info": {
   "codemirror_mode": {
    "name": "ipython",
    "version": 3
   },
   "file_extension": ".py",
   "mimetype": "text/x-python",
   "name": "python",
   "nbconvert_exporter": "python",
   "pygments_lexer": "ipython3",
   "version": "3.10.1"
  },
  "orig_nbformat": 4
 },
 "nbformat": 4,
 "nbformat_minor": 2
}
